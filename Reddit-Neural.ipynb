{
 "cells": [
  {
   "cell_type": "markdown",
   "id": "e4f9ea81",
   "metadata": {},
   "source": [
    "# Reddit Classification Task\n",
    "\n",
    "This project aims to accomplish a task of building a classifier model that accurately classifies a list of reddit comments into the proper labels of Medical Doctor, Veterinarian and Others. \n",
    "The classifier model explored was based on Neural Networks focusing on Convolutional Neural Network (CNN) due to its performance in performing classification tasks."
   ]
  },
  {
   "cell_type": "code",
   "execution_count": 1,
   "id": "7b762116",
   "metadata": {},
   "outputs": [],
   "source": [
    "#libraries needed to run this code\n",
    "import pandas as pd\n",
    "import numpy as np\n",
    "import matplotlib.pyplot as plt\n",
    "import seaborn as sns\n",
    "\n",
    "from sklearn.model_selection import train_test_split\n",
    "from sklearn.preprocessing import OneHotEncoder\n",
    "from sklearn.feature_extraction.text import TfidfVectorizer\n",
    "from tensorflow.keras.models import Sequential\n",
    "from tensorflow.keras.optimizers import Adam\n",
    "from sklearn.preprocessing import LabelEncoder\n",
    "from tensorflow.keras.preprocessing.text import Tokenizer\n",
    "from tensorflow.keras.preprocessing.sequence import pad_sequences\n",
    "from tensorflow.keras.models import Sequential\n",
    "from tensorflow.keras.layers import Embedding, Conv1D, GlobalMaxPooling1D, Dense, Dropout\n",
    "from tensorflow.keras.layers import LSTM, Embedding, SpatialDropout1D\n",
    "from tensorflow.keras.models import load_model\n",
    "from sklearn.metrics import classification_report, confusion_matrix\n",
    "\n",
    "%matplotlib inline"
   ]
  },
  {
   "cell_type": "markdown",
   "id": "bd83c149",
   "metadata": {},
   "source": [
    "\n",
    "**Data Preprocessing**"
   ]
  },
  {
   "cell_type": "code",
   "execution_count": 2,
   "id": "5166b2b1",
   "metadata": {},
   "outputs": [],
   "source": [
    "# Load the data\n",
    "reddit_data = pd.read_csv('reddit_usernames_comments.csv')"
   ]
  },
  {
   "cell_type": "code",
   "execution_count": 3,
   "id": "0bcf2843",
   "metadata": {},
   "outputs": [
    {
     "data": {
      "text/html": [
       "<div>\n",
       "<style scoped>\n",
       "    .dataframe tbody tr th:only-of-type {\n",
       "        vertical-align: middle;\n",
       "    }\n",
       "\n",
       "    .dataframe tbody tr th {\n",
       "        vertical-align: top;\n",
       "    }\n",
       "\n",
       "    .dataframe thead th {\n",
       "        text-align: right;\n",
       "    }\n",
       "</style>\n",
       "<table border=\"1\" class=\"dataframe\">\n",
       "  <thead>\n",
       "    <tr style=\"text-align: right;\">\n",
       "      <th></th>\n",
       "      <th>username</th>\n",
       "      <th>comments</th>\n",
       "    </tr>\n",
       "  </thead>\n",
       "  <tbody>\n",
       "    <tr>\n",
       "      <th>0</th>\n",
       "      <td>--solaris--</td>\n",
       "      <td>I think a lot of other people made some good p...</td>\n",
       "    </tr>\n",
       "    <tr>\n",
       "      <th>1</th>\n",
       "      <td>-Mother_of_Doggos</td>\n",
       "      <td>No, and it doesn’t suit you based on what you’...</td>\n",
       "    </tr>\n",
       "    <tr>\n",
       "      <th>2</th>\n",
       "      <td>-Tasear-</td>\n",
       "      <td>It's just the adjustment period to any new pla...</td>\n",
       "    </tr>\n",
       "    <tr>\n",
       "      <th>3</th>\n",
       "      <td>-Zyonia-</td>\n",
       "      <td>I am living this currently and when a trainee ...</td>\n",
       "    </tr>\n",
       "    <tr>\n",
       "      <th>4</th>\n",
       "      <td>-p-OodlesOfNoodles</td>\n",
       "      <td>Well that's disappointing that there is no cha...</td>\n",
       "    </tr>\n",
       "  </tbody>\n",
       "</table>\n",
       "</div>"
      ],
      "text/plain": [
       "             username                                           comments\n",
       "0         --solaris--  I think a lot of other people made some good p...\n",
       "1   -Mother_of_Doggos  No, and it doesn’t suit you based on what you’...\n",
       "2            -Tasear-  It's just the adjustment period to any new pla...\n",
       "3            -Zyonia-  I am living this currently and when a trainee ...\n",
       "4  -p-OodlesOfNoodles  Well that's disappointing that there is no cha..."
      ]
     },
     "execution_count": 3,
     "metadata": {},
     "output_type": "execute_result"
    }
   ],
   "source": [
    "reddit_data.head(5)"
   ]
  },
  {
   "cell_type": "code",
   "execution_count": 4,
   "id": "4b428b6f",
   "metadata": {},
   "outputs": [
    {
     "data": {
      "text/plain": [
       "(3259, 2)"
      ]
     },
     "execution_count": 4,
     "metadata": {},
     "output_type": "execute_result"
    }
   ],
   "source": [
    "reddit_data.shape"
   ]
  },
  {
   "cell_type": "code",
   "execution_count": 5,
   "id": "459d182d",
   "metadata": {},
   "outputs": [
    {
     "name": "stdout",
     "output_type": "stream",
     "text": [
      "<class 'pandas.core.frame.DataFrame'>\n",
      "RangeIndex: 3259 entries, 0 to 3258\n",
      "Data columns (total 2 columns):\n",
      " #   Column    Non-Null Count  Dtype \n",
      "---  ------    --------------  ----- \n",
      " 0   username  3259 non-null   object\n",
      " 1   comments  3259 non-null   object\n",
      "dtypes: object(2)\n",
      "memory usage: 51.1+ KB\n"
     ]
    }
   ],
   "source": [
    "reddit_data.info()"
   ]
  },
  {
   "cell_type": "code",
   "execution_count": 6,
   "id": "4e5ef31e",
   "metadata": {},
   "outputs": [
    {
     "data": {
      "text/html": [
       "<div>\n",
       "<style scoped>\n",
       "    .dataframe tbody tr th:only-of-type {\n",
       "        vertical-align: middle;\n",
       "    }\n",
       "\n",
       "    .dataframe tbody tr th {\n",
       "        vertical-align: top;\n",
       "    }\n",
       "\n",
       "    .dataframe thead th {\n",
       "        text-align: right;\n",
       "    }\n",
       "</style>\n",
       "<table border=\"1\" class=\"dataframe\">\n",
       "  <thead>\n",
       "    <tr style=\"text-align: right;\">\n",
       "      <th></th>\n",
       "      <th>username</th>\n",
       "      <th>comments</th>\n",
       "    </tr>\n",
       "  </thead>\n",
       "  <tbody>\n",
       "    <tr>\n",
       "      <th>count</th>\n",
       "      <td>3259</td>\n",
       "      <td>3259</td>\n",
       "    </tr>\n",
       "    <tr>\n",
       "      <th>unique</th>\n",
       "      <td>3259</td>\n",
       "      <td>3258</td>\n",
       "    </tr>\n",
       "    <tr>\n",
       "      <th>top</th>\n",
       "      <td>--solaris--</td>\n",
       "      <td>Why?|Why?|Why?|Why?|Why?|Why?</td>\n",
       "    </tr>\n",
       "    <tr>\n",
       "      <th>freq</th>\n",
       "      <td>1</td>\n",
       "      <td>2</td>\n",
       "    </tr>\n",
       "  </tbody>\n",
       "</table>\n",
       "</div>"
      ],
      "text/plain": [
       "           username                       comments\n",
       "count          3259                           3259\n",
       "unique         3259                           3258\n",
       "top     --solaris--  Why?|Why?|Why?|Why?|Why?|Why?\n",
       "freq              1                              2"
      ]
     },
     "execution_count": 6,
     "metadata": {},
     "output_type": "execute_result"
    }
   ],
   "source": [
    "reddit_data.describe()"
   ]
  },
  {
   "cell_type": "code",
   "execution_count": 7,
   "id": "9bda6b82",
   "metadata": {},
   "outputs": [],
   "source": [
    "# Cleaning text data: lowercasing and removing punctuation\n",
    "reddit_data['cleaned_comments'] = reddit_data['comments'].str.lower().str.replace('[^\\\\w\\\\s]', '', regex=True)"
   ]
  },
  {
   "cell_type": "code",
   "execution_count": 8,
   "id": "b73d9bab",
   "metadata": {},
   "outputs": [],
   "source": [
    "#using a search function to create the target category column with which the model will be trained on\n",
    "# Define keywords for each category\n",
    "\n",
    "medical_keywords = ['medical doctor', 'practicing doctor', 'medical school student', 'nurse', 'medical professional', 'doctor', 'Dr', 'healthcare provider']\n",
    "veterinarian_keywords = ['veterinarian', 'practicing vet', 'vet student', 'vet tech', 'vet', 'animal doctor']\n",
    "\n",
    "# Function to classify each comment and extract the keyword\n",
    "def classify_comment(comment):\n",
    "    # Check for Medical keywords\n",
    "    for keyword in medical_keywords:\n",
    "        if keyword in comment.lower():\n",
    "            return keyword, 'Medical Doctor'\n",
    "    # Check for Veterinarian keywords\n",
    "    for keyword in veterinarian_keywords:\n",
    "        if keyword in comment.lower():\n",
    "            return keyword, 'Veterinarian'\n",
    "    # Default to Others\n",
    "    return 'Others', 'Others'\n",
    "\n",
    "# Apply the classification function to each comment\n",
    "reddit_data['profession'], reddit_data['category'] = zip(*reddit_data['comments'].apply(classify_comment))"
   ]
  },
  {
   "cell_type": "code",
   "execution_count": 9,
   "id": "6e11901a",
   "metadata": {},
   "outputs": [],
   "source": [
    "reddit_data.to_csv('labelled_reddit.csv')"
   ]
  },
  {
   "cell_type": "code",
   "execution_count": 10,
   "id": "692949a4",
   "metadata": {},
   "outputs": [
    {
     "data": {
      "text/plain": [
       "Others            1991\n",
       "Veterinarian       906\n",
       "Medical Doctor     362\n",
       "Name: category, dtype: int64"
      ]
     },
     "execution_count": 10,
     "metadata": {},
     "output_type": "execute_result"
    }
   ],
   "source": [
    "reddit_data['category'].value_counts()"
   ]
  },
  {
   "cell_type": "code",
   "execution_count": 11,
   "id": "eaab19da",
   "metadata": {},
   "outputs": [
    {
     "data": {
      "image/png": "[encoded data removed]",
      "text/plain": [
       "<Figure size 640x480 with 1 Axes>"
      ]
     },
     "metadata": {},
     "output_type": "display_data"
    }
   ],
   "source": [
    "sns.countplot(x='category', data=reddit_data)\n",
    "plt.show()"
   ]
  },
  {
   "cell_type": "markdown",
   "id": "0f3f4e39",
   "metadata": {},
   "source": [
    "\n",
    "\n",
    "**Model Training**"
   ]
  },
  {
   "cell_type": "code",
   "execution_count": 12,
   "id": "f0c62b22",
   "metadata": {},
   "outputs": [],
   "source": [
    "text = reddit_data['cleaned_comments']\n",
    "labels = reddit_data['category']\n",
    "\n",
    "# Split the dataset into training and testing sets\n",
    "\n",
    "train_texts, test_texts, train_labels, test_labels = train_test_split(reddit_data['cleaned_comments'], reddit_data['category'], test_size=0.4, random_state=30)"
   ]
  },
  {
   "cell_type": "code",
   "execution_count": 13,
   "id": "47d3a421",
   "metadata": {},
   "outputs": [],
   "source": [
    "# Encode the labels\n",
    "label_encoder = LabelEncoder()\n",
    "train_labels = label_encoder.fit_transform(train_labels)\n",
    "test_labels = label_encoder.transform(test_labels)\n",
    "num_classes = len(label_encoder.classes_)"
   ]
  },
  {
   "cell_type": "code",
   "execution_count": 14,
   "id": "cdf0adb8",
   "metadata": {},
   "outputs": [],
   "source": [
    "# Tokenize the texts\n",
    "tokenizer = Tokenizer(num_words=5000)\n",
    "tokenizer.fit_on_texts(train_texts)\n",
    "train_sequences = tokenizer.texts_to_sequences(train_texts)\n",
    "test_sequences = tokenizer.texts_to_sequences(test_texts)"
   ]
  },
  {
   "cell_type": "code",
   "execution_count": 15,
   "id": "ea13d47a",
   "metadata": {},
   "outputs": [],
   "source": [
    "# Pad sequences to have the same length\n",
    "max_seq_length = 500\n",
    "train_data = pad_sequences(train_sequences, maxlen=max_seq_length)\n",
    "test_data = pad_sequences(test_sequences, maxlen=max_seq_length)"
   ]
  },
  {
   "cell_type": "code",
   "execution_count": 16,
   "id": "d94b1a68",
   "metadata": {},
   "outputs": [],
   "source": [
    "# Create the CNN model\n",
    "embedding_dim = 100\n",
    "filters = 128\n",
    "kernel_size = 5\n",
    "\n",
    "model = Sequential()\n",
    "model.add(Embedding(input_dim=len(tokenizer.word_index) + 1, output_dim=embedding_dim, input_length=max_seq_length))\n",
    "model.add(Conv1D(filters=filters, kernel_size=kernel_size, activation='relu'))\n",
    "model.add(GlobalMaxPooling1D())\n",
    "model.add(Dense(256, activation='relu'))\n",
    "model.add(Dropout(0.5))\n",
    "model.add(Dense(num_classes, activation='softmax'))\n",
    "\n",
    "model.compile(optimizer='adam', loss='sparse_categorical_crossentropy', metrics=['accuracy'])"
   ]
  },
  {
   "cell_type": "code",
   "execution_count": 17,
   "id": "dc166a60",
   "metadata": {},
   "outputs": [
    {
     "name": "stdout",
     "output_type": "stream",
     "text": [
      "Epoch 1/10\n",
      "62/62 [==============================] - 5s 70ms/step - loss: 0.8830 - accuracy: 0.6297 - val_loss: 0.6869 - val_accuracy: 0.7078\n",
      "Epoch 2/10\n",
      "62/62 [==============================] - 4s 68ms/step - loss: 0.4458 - accuracy: 0.8368 - val_loss: 0.3248 - val_accuracy: 0.8719\n",
      "Epoch 3/10\n",
      "62/62 [==============================] - 4s 68ms/step - loss: 0.2836 - accuracy: 0.8737 - val_loss: 0.2985 - val_accuracy: 0.8781\n",
      "Epoch 4/10\n",
      "62/62 [==============================] - 4s 67ms/step - loss: 0.2309 - accuracy: 0.8957 - val_loss: 0.2825 - val_accuracy: 0.8957\n",
      "Epoch 5/10\n",
      "62/62 [==============================] - 4s 65ms/step - loss: 0.1559 - accuracy: 0.9499 - val_loss: 0.1995 - val_accuracy: 0.9448\n",
      "Epoch 6/10\n",
      "62/62 [==============================] - 4s 69ms/step - loss: 0.0570 - accuracy: 0.9847 - val_loss: 0.1565 - val_accuracy: 0.9632\n",
      "Epoch 7/10\n",
      "62/62 [==============================] - 4s 68ms/step - loss: 0.0234 - accuracy: 0.9959 - val_loss: 0.1600 - val_accuracy: 0.9663\n",
      "Epoch 8/10\n",
      "62/62 [==============================] - 5s 73ms/step - loss: 0.0092 - accuracy: 0.9985 - val_loss: 0.1713 - val_accuracy: 0.9647\n",
      "Epoch 9/10\n",
      "62/62 [==============================] - 4s 67ms/step - loss: 0.0055 - accuracy: 0.9990 - val_loss: 0.1795 - val_accuracy: 0.9632\n",
      "Epoch 10/10\n",
      "62/62 [==============================] - 4s 71ms/step - loss: 0.0035 - accuracy: 1.0000 - val_loss: 0.1886 - val_accuracy: 0.9663\n"
     ]
    }
   ],
   "source": [
    "# Train the model\n",
    "epochs = 10\n",
    "batch_size = 32\n",
    "\n",
    "history = model.fit(train_data, train_labels, epochs=epochs, batch_size=batch_size, validation_data=(test_data, test_labels))"
   ]
  },
  {
   "cell_type": "code",
   "execution_count": 18,
   "id": "d9d74e73",
   "metadata": {},
   "outputs": [
    {
     "name": "stdout",
     "output_type": "stream",
     "text": [
      "41/41 [==============================] - 0s 11ms/step - loss: 0.1886 - accuracy: 0.9663\n",
      "Test Loss: 0.1886\n",
      "Test Accuracy: 0.9663\n"
     ]
    }
   ],
   "source": [
    "# Evaluate the model\n",
    "loss, accuracy = model.evaluate(test_data, test_labels, batch_size=batch_size)\n",
    "print(f'Test Loss: {loss:.4f}')\n",
    "print(f'Test Accuracy: {accuracy:.4f}')"
   ]
  },
  {
   "cell_type": "code",
   "execution_count": 19,
   "id": "e2a4c40a",
   "metadata": {},
   "outputs": [
    {
     "data": {
      "image/png": "[encoded data removed]",
      "text/plain": [
       "<Figure size 640x480 with 1 Axes>"
      ]
     },
     "metadata": {},
     "output_type": "display_data"
    }
   ],
   "source": [
    "# Plot accuracy vs. epochs\n",
    "import matplotlib.pyplot as plt\n",
    "\n",
    "plt.plot(history.history['accuracy'])\n",
    "plt.plot(history.history['val_accuracy'])\n",
    "plt.xlabel('Epochs')\n",
    "plt.ylabel('Accuracy')\n",
    "plt.legend(['Training', 'Validation'])\n",
    "plt.title('Accuracy vs. Epochs')\n",
    "plt.show()"
   ]
  },
  {
   "cell_type": "code",
   "execution_count": 20,
   "id": "2f61f080",
   "metadata": {},
   "outputs": [],
   "source": [
    "loss = history.history['loss']"
   ]
  },
  {
   "cell_type": "code",
   "execution_count": 21,
   "id": "333d3732",
   "metadata": {},
   "outputs": [
    {
     "data": {
      "image/png": "[encoded data removed]",
      "text/plain": [
       "<Figure size 640x480 with 1 Axes>"
      ]
     },
     "metadata": {},
     "output_type": "display_data"
    }
   ],
   "source": [
    "# Plot the loss vs epochs graph\n",
    "plt.plot(history.history['val_loss'])\n",
    "plt.plot(loss)\n",
    "plt.title('Loss vs Epochs')\n",
    "plt.xlabel('Epochs')\n",
    "plt.ylabel('Loss')\n",
    "plt.legend(['Val_loss', 'Loss'])\n",
    "plt.show()"
   ]
  },
  {
   "cell_type": "code",
   "execution_count": 22,
   "id": "64e6768b",
   "metadata": {},
   "outputs": [
    {
     "name": "stderr",
     "output_type": "stream",
     "text": [
      "C:\\Users\\ADMIN\\anaconda3\\Lib\\site-packages\\keras\\src\\engine\\training.py:3000: UserWarning: You are saving your model as an HDF5 file via `model.save()`. This file format is considered legacy. We recommend using instead the native Keras format, e.g. `model.save('my_model.keras')`.\n",
      "  saving_api.save_model(\n"
     ]
    }
   ],
   "source": [
    "# Save the trained model\n",
    "model.save('reddit_comment_classifier_model.h5')"
   ]
  },
  {
   "cell_type": "markdown",
   "id": "b724284c",
   "metadata": {},
   "source": [
    "### Evaluation on Newly prepared dataset\n",
    "\n",
    "Note only run for the evaluation of the dataset"
   ]
  },
  {
   "cell_type": "code",
   "execution_count": 23,
   "id": "bfc8afd1",
   "metadata": {},
   "outputs": [],
   "source": [
    "# import pandas as pd\n",
    "# import numpy as np\n",
    "# import re\n",
    "# import tensorflow as tf\n",
    "# from tensorflow.keras.preprocessing.text import Tokenizer\n",
    "# from tensorflow.keras.preprocessing.sequence import pad_sequences\n",
    "# from sklearn.preprocessing import LabelEncoder\n",
    "\n",
    "# # Load and preprocess the new dataset\n",
    "# def load_and_preprocess_new_data(file_path):\n",
    "#     # Load the new data\n",
    "#     new_data = pd.read_csv(file_path)\n",
    "    \n",
    "#     # Preprocess the comments\n",
    "#     def preprocess_text(text):\n",
    "#         text = re.sub(r'http\\S+|www\\S+|https\\S+|@\\S+', '', text, flags=re.MULTILINE)\n",
    "#         text = re.sub(r'\\@w+|\\#','', text)\n",
    "#         text = re.sub(r'[^A-Za-z\\s]', '', text)\n",
    "#         text = re.sub(r'\\d+', '', text)\n",
    "#         text = text.lower()\n",
    "#         return text\n",
    "\n",
    "#     new_data['comment'] = new_data['comment'].apply(preprocess_text)\n",
    "    \n",
    "#     return new_data['comment'].values\n",
    "\n",
    "# # Tokenize and pad the new data\n",
    "# def tokenize_and_pad_sequences(new_comments, tokenizer, max_length):\n",
    "#     new_sequences = tokenizer.texts_to_sequences(new_comments)\n",
    "#     new_padded = pad_sequences(new_sequences, maxlen=max_length, padding='post', truncating='post')\n",
    "#     return new_padded\n",
    "\n",
    "# # Load the new dataset\n",
    "# new_file_path = '/path/to/new/reddit_comments.csv'  # Update with the actual path\n",
    "# new_comments = load_and_preprocess_new_data(new_file_path)\n",
    "\n",
    "# # Tokenize and pad the new data\n",
    "# new_sequences = tokenize_and_pad_sequences(new_comments, tokenizer, max_length)\n",
    "\n",
    "# # Load the saved model\n",
    "# loaded_model = tf.keras.models.load_model('/mnt/data/reddit_comment_classifier_model.h5')\n",
    "\n",
    "# # Make predictions on the new data\n",
    "# new_predictions = loaded_model.predict(new_sequences)\n",
    "# new_predicted_labels = np.argmax(new_predictions, axis=1)\n",
    "\n",
    "# # Convert numeric labels back to original labels\n",
    "# new_predicted_labels = label_encoder.inverse_transform(new_predicted_labels)\n",
    "\n",
    "# # Display the predictions\n",
    "# for comment, label in zip(new_comments, new_predicted_labels):\n",
    "#     print(f'Comment: {comment}\\nPredicted Label: {label}\\n')"
   ]
  }
 ],
 "metadata": {
  "kernelspec": {
   "display_name": "Python 3 (ipykernel)",
   "language": "python",
   "name": "python3"
  },
  "language_info": {
   "codemirror_mode": {
    "name": "ipython",
    "version": 3
   },
   "file_extension": ".py",
   "mimetype": "text/x-python",
   "name": "python",
   "nbconvert_exporter": "python",
   "pygments_lexer": "ipython3",
   "version": "3.11.3"
  }
 },
 "nbformat": 4,
 "nbformat_minor": 5
}
