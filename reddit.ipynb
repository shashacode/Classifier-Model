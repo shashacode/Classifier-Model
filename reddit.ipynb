{
 "cells": [
  {
   "cell_type": "markdown",
   "id": "580cc327",
   "metadata": {},
   "source": [
    "# Reddit Classification Task\n",
    "\n",
    "This project aims to accomplish a task of building a classifier model that accurately classifies a list of reddit comments into the proper labels of Medical Doctor, Veterinarian and Others. \n",
    "The classifier model explored were based on conventional Machine learning Algorithms focusing mainly on Logistic Regression and Support Vector Machine (SVM) due to their performance in performing classification tasks.\n",
    "\n",
    "This code is divided into 3 main sections which are:\n",
    "- Data Preprocessing\n",
    "- Model Building\n",
    "- Result and Conclusions"
   ]
  },
  {
   "cell_type": "code",
   "execution_count": 1,
   "id": "22545dbd",
   "metadata": {},
   "outputs": [],
   "source": [
    "#libraries needed to run this code\n",
    "\n",
    "import pandas as pd\n",
    "import numpy as np\n",
    "import matplotlib.pyplot as plt\n",
    "import seaborn as sns\n",
    "\n",
    "from sklearn.model_selection import train_test_split\n",
    "from sklearn.feature_extraction.text import TfidfVectorizer\n",
    "from sklearn.preprocessing import LabelEncoder\n",
    "from sklearn.linear_model import LogisticRegression\n",
    "from sklearn.model_selection import cross_val_score\n",
    "from sklearn.metrics import classification_report, accuracy_score\n",
    "from sklearn.metrics import precision_recall_fscore_support\n",
    "from sklearn.model_selection import GridSearchCV\n",
    "from sklearn.svm import SVC\n",
    "from sklearn.model_selection import learning_curve\n",
    "from sklearn.feature_extraction.text import TfidfVectorizer\n",
    "from sklearn.pipeline import make_pipeline\n",
    "\n",
    "\n",
    "from joblib import dump\n",
    "%matplotlib inline"
   ]
  },
  {
   "cell_type": "code",
   "execution_count": 2,
   "id": "74debaae",
   "metadata": {},
   "outputs": [],
   "source": [
    "# Load the dataset\n",
    "\n",
    "reddit_data = pd.read_csv('reddit_usernames_comments.csv')"
   ]
  },
  {
   "cell_type": "markdown",
   "id": "6a72a4a6",
   "metadata": {},
   "source": [
    "# SECTION A"
   ]
  },
  {
   "cell_type": "markdown",
   "id": "ba3defcf",
   "metadata": {},
   "source": [
    "**Data Preprocessing**\n",
    "- Cleaning data\n",
    "- Feature Engineering: Adding neccessary columns with which the classifier model will be trained with"
   ]
  },
  {
   "cell_type": "code",
   "execution_count": 3,
   "id": "736b8133",
   "metadata": {},
   "outputs": [
    {
     "data": {
      "text/plain": [
       "(3259, 2)"
      ]
     },
     "execution_count": 3,
     "metadata": {},
     "output_type": "execute_result"
    }
   ],
   "source": [
    "reddit_data.shape"
   ]
  },
  {
   "cell_type": "code",
   "execution_count": 4,
   "id": "0cbb3ab9",
   "metadata": {},
   "outputs": [
    {
     "name": "stdout",
     "output_type": "stream",
     "text": [
      "<class 'pandas.core.frame.DataFrame'>\n",
      "RangeIndex: 3259 entries, 0 to 3258\n",
      "Data columns (total 2 columns):\n",
      " #   Column    Non-Null Count  Dtype \n",
      "---  ------    --------------  ----- \n",
      " 0   username  3259 non-null   object\n",
      " 1   comments  3259 non-null   object\n",
      "dtypes: object(2)\n",
      "memory usage: 51.1+ KB\n"
     ]
    }
   ],
   "source": [
    "reddit_data.info()"
   ]
  },
  {
   "cell_type": "code",
   "execution_count": 5,
   "id": "6635bdbb",
   "metadata": {},
   "outputs": [
    {
     "data": {
      "text/html": [
       "<div>\n",
       "<style scoped>\n",
       "    .dataframe tbody tr th:only-of-type {\n",
       "        vertical-align: middle;\n",
       "    }\n",
       "\n",
       "    .dataframe tbody tr th {\n",
       "        vertical-align: top;\n",
       "    }\n",
       "\n",
       "    .dataframe thead th {\n",
       "        text-align: right;\n",
       "    }\n",
       "</style>\n",
       "<table border=\"1\" class=\"dataframe\">\n",
       "  <thead>\n",
       "    <tr style=\"text-align: right;\">\n",
       "      <th></th>\n",
       "      <th>username</th>\n",
       "      <th>comments</th>\n",
       "    </tr>\n",
       "  </thead>\n",
       "  <tbody>\n",
       "    <tr>\n",
       "      <th>count</th>\n",
       "      <td>3259</td>\n",
       "      <td>3259</td>\n",
       "    </tr>\n",
       "    <tr>\n",
       "      <th>unique</th>\n",
       "      <td>3259</td>\n",
       "      <td>3258</td>\n",
       "    </tr>\n",
       "    <tr>\n",
       "      <th>top</th>\n",
       "      <td>--solaris--</td>\n",
       "      <td>Why?|Why?|Why?|Why?|Why?|Why?</td>\n",
       "    </tr>\n",
       "    <tr>\n",
       "      <th>freq</th>\n",
       "      <td>1</td>\n",
       "      <td>2</td>\n",
       "    </tr>\n",
       "  </tbody>\n",
       "</table>\n",
       "</div>"
      ],
      "text/plain": [
       "           username                       comments\n",
       "count          3259                           3259\n",
       "unique         3259                           3258\n",
       "top     --solaris--  Why?|Why?|Why?|Why?|Why?|Why?\n",
       "freq              1                              2"
      ]
     },
     "execution_count": 5,
     "metadata": {},
     "output_type": "execute_result"
    }
   ],
   "source": [
    "reddit_data.describe()"
   ]
  },
  {
   "cell_type": "code",
   "execution_count": 6,
   "id": "a6c26426",
   "metadata": {},
   "outputs": [],
   "source": [
    "#using a rule-based method to create a profession and category column with which the model will be trained on\n",
    "# Define keywords for each category\n",
    "medical_keywords = ['medical doctor', 'practicing doctor', 'medical school student', 'nurse', 'medical professional', 'doctor', 'Dr', 'healthcare provider']\n",
    "veterinarian_keywords = ['veterinarian', 'practicing vet', 'vet student', 'vet tech', 'vet', 'animal doctor']\n",
    "\n",
    "# Function to classify each comment and extract the keyword\n",
    "def classify_comment(comment):\n",
    "    # Check for Medical keywords\n",
    "    for keyword in medical_keywords:\n",
    "        if keyword in comment.lower():\n",
    "            return keyword, 'Medical Doctor'\n",
    "    # Check for Veterinarian keywords\n",
    "    for keyword in veterinarian_keywords:\n",
    "        if keyword in comment.lower():\n",
    "            return keyword, 'Veterinarian'\n",
    "    # Default to Others\n",
    "    return 'Others', 'Others'\n",
    "\n",
    "# Apply the classification function to each comment\n",
    "reddit_data['profession'], reddit_data['category'] = zip(*reddit_data['comments'].apply(classify_comment))"
   ]
  },
  {
   "cell_type": "code",
   "execution_count": 7,
   "id": "34d3e414",
   "metadata": {},
   "outputs": [
    {
     "data": {
      "text/html": [
       "<div>\n",
       "<style scoped>\n",
       "    .dataframe tbody tr th:only-of-type {\n",
       "        vertical-align: middle;\n",
       "    }\n",
       "\n",
       "    .dataframe tbody tr th {\n",
       "        vertical-align: top;\n",
       "    }\n",
       "\n",
       "    .dataframe thead th {\n",
       "        text-align: right;\n",
       "    }\n",
       "</style>\n",
       "<table border=\"1\" class=\"dataframe\">\n",
       "  <thead>\n",
       "    <tr style=\"text-align: right;\">\n",
       "      <th></th>\n",
       "      <th>username</th>\n",
       "      <th>comments</th>\n",
       "      <th>profession</th>\n",
       "      <th>category</th>\n",
       "    </tr>\n",
       "  </thead>\n",
       "  <tbody>\n",
       "    <tr>\n",
       "      <th>0</th>\n",
       "      <td>--solaris--</td>\n",
       "      <td>I think a lot of other people made some good p...</td>\n",
       "      <td>doctor</td>\n",
       "      <td>Medical Doctor</td>\n",
       "    </tr>\n",
       "    <tr>\n",
       "      <th>1</th>\n",
       "      <td>-Mother_of_Doggos</td>\n",
       "      <td>No, and it doesn’t suit you based on what you’...</td>\n",
       "      <td>Others</td>\n",
       "      <td>Others</td>\n",
       "    </tr>\n",
       "    <tr>\n",
       "      <th>2</th>\n",
       "      <td>-Tasear-</td>\n",
       "      <td>It's just the adjustment period to any new pla...</td>\n",
       "      <td>Others</td>\n",
       "      <td>Others</td>\n",
       "    </tr>\n",
       "    <tr>\n",
       "      <th>3</th>\n",
       "      <td>-Zyonia-</td>\n",
       "      <td>I am living this currently and when a trainee ...</td>\n",
       "      <td>Others</td>\n",
       "      <td>Others</td>\n",
       "    </tr>\n",
       "    <tr>\n",
       "      <th>4</th>\n",
       "      <td>-p-OodlesOfNoodles</td>\n",
       "      <td>Well that's disappointing that there is no cha...</td>\n",
       "      <td>vet</td>\n",
       "      <td>Veterinarian</td>\n",
       "    </tr>\n",
       "  </tbody>\n",
       "</table>\n",
       "</div>"
      ],
      "text/plain": [
       "             username                                           comments  \\\n",
       "0         --solaris--  I think a lot of other people made some good p...   \n",
       "1   -Mother_of_Doggos  No, and it doesn’t suit you based on what you’...   \n",
       "2            -Tasear-  It's just the adjustment period to any new pla...   \n",
       "3            -Zyonia-  I am living this currently and when a trainee ...   \n",
       "4  -p-OodlesOfNoodles  Well that's disappointing that there is no cha...   \n",
       "\n",
       "  profession        category  \n",
       "0     doctor  Medical Doctor  \n",
       "1     Others          Others  \n",
       "2     Others          Others  \n",
       "3     Others          Others  \n",
       "4        vet    Veterinarian  "
      ]
     },
     "execution_count": 7,
     "metadata": {},
     "output_type": "execute_result"
    }
   ],
   "source": [
    "reddit_data.head(5)"
   ]
  },
  {
   "cell_type": "code",
   "execution_count": 8,
   "id": "b5a98b24",
   "metadata": {},
   "outputs": [],
   "source": [
    "# Cleaning text data: lowercasing and removing punctuation\n",
    "reddit_data['cleaned_comments'] = reddit_data['comments'].str.lower().str.replace('[^\\\\w\\\\s]', '', regex=True)"
   ]
  },
  {
   "cell_type": "code",
   "execution_count": 9,
   "id": "8af821c3",
   "metadata": {},
   "outputs": [
    {
     "data": {
      "text/html": [
       "<div>\n",
       "<style scoped>\n",
       "    .dataframe tbody tr th:only-of-type {\n",
       "        vertical-align: middle;\n",
       "    }\n",
       "\n",
       "    .dataframe tbody tr th {\n",
       "        vertical-align: top;\n",
       "    }\n",
       "\n",
       "    .dataframe thead th {\n",
       "        text-align: right;\n",
       "    }\n",
       "</style>\n",
       "<table border=\"1\" class=\"dataframe\">\n",
       "  <thead>\n",
       "    <tr style=\"text-align: right;\">\n",
       "      <th></th>\n",
       "      <th>username</th>\n",
       "      <th>comments</th>\n",
       "      <th>profession</th>\n",
       "      <th>category</th>\n",
       "      <th>cleaned_comments</th>\n",
       "    </tr>\n",
       "  </thead>\n",
       "  <tbody>\n",
       "    <tr>\n",
       "      <th>0</th>\n",
       "      <td>--solaris--</td>\n",
       "      <td>I think a lot of other people made some good p...</td>\n",
       "      <td>doctor</td>\n",
       "      <td>Medical Doctor</td>\n",
       "      <td>i think a lot of other people made some good p...</td>\n",
       "    </tr>\n",
       "    <tr>\n",
       "      <th>1</th>\n",
       "      <td>-Mother_of_Doggos</td>\n",
       "      <td>No, and it doesn’t suit you based on what you’...</td>\n",
       "      <td>Others</td>\n",
       "      <td>Others</td>\n",
       "      <td>no and it doesnt suit you based on what youve ...</td>\n",
       "    </tr>\n",
       "    <tr>\n",
       "      <th>2</th>\n",
       "      <td>-Tasear-</td>\n",
       "      <td>It's just the adjustment period to any new pla...</td>\n",
       "      <td>Others</td>\n",
       "      <td>Others</td>\n",
       "      <td>its just the adjustment period to any new plac...</td>\n",
       "    </tr>\n",
       "    <tr>\n",
       "      <th>3</th>\n",
       "      <td>-Zyonia-</td>\n",
       "      <td>I am living this currently and when a trainee ...</td>\n",
       "      <td>Others</td>\n",
       "      <td>Others</td>\n",
       "      <td>i am living this currently and when a trainee ...</td>\n",
       "    </tr>\n",
       "    <tr>\n",
       "      <th>4</th>\n",
       "      <td>-p-OodlesOfNoodles</td>\n",
       "      <td>Well that's disappointing that there is no cha...</td>\n",
       "      <td>vet</td>\n",
       "      <td>Veterinarian</td>\n",
       "      <td>well thats disappointing that there is no chan...</td>\n",
       "    </tr>\n",
       "  </tbody>\n",
       "</table>\n",
       "</div>"
      ],
      "text/plain": [
       "             username                                           comments  \\\n",
       "0         --solaris--  I think a lot of other people made some good p...   \n",
       "1   -Mother_of_Doggos  No, and it doesn’t suit you based on what you’...   \n",
       "2            -Tasear-  It's just the adjustment period to any new pla...   \n",
       "3            -Zyonia-  I am living this currently and when a trainee ...   \n",
       "4  -p-OodlesOfNoodles  Well that's disappointing that there is no cha...   \n",
       "\n",
       "  profession        category  \\\n",
       "0     doctor  Medical Doctor   \n",
       "1     Others          Others   \n",
       "2     Others          Others   \n",
       "3     Others          Others   \n",
       "4        vet    Veterinarian   \n",
       "\n",
       "                                    cleaned_comments  \n",
       "0  i think a lot of other people made some good p...  \n",
       "1  no and it doesnt suit you based on what youve ...  \n",
       "2  its just the adjustment period to any new plac...  \n",
       "3  i am living this currently and when a trainee ...  \n",
       "4  well thats disappointing that there is no chan...  "
      ]
     },
     "execution_count": 9,
     "metadata": {},
     "output_type": "execute_result"
    }
   ],
   "source": [
    "reddit_data.head(5)"
   ]
  },
  {
   "cell_type": "code",
   "execution_count": 10,
   "id": "60ba5b7c",
   "metadata": {},
   "outputs": [],
   "source": [
    "reddit_data.to_csv('updated_reddit.csv')"
   ]
  },
  {
   "cell_type": "code",
   "execution_count": 11,
   "id": "c6a81046",
   "metadata": {},
   "outputs": [
    {
     "data": {
      "text/plain": [
       "Others            1991\n",
       "Veterinarian       906\n",
       "Medical Doctor     362\n",
       "Name: category, dtype: int64"
      ]
     },
     "execution_count": 11,
     "metadata": {},
     "output_type": "execute_result"
    }
   ],
   "source": [
    "reddit_data['category'].value_counts()"
   ]
  },
  {
   "cell_type": "code",
   "execution_count": 12,
   "id": "41f46f77",
   "metadata": {},
   "outputs": [
    {
     "data": {
      "image/png": "[encoded data removed]",
      "text/plain": [
       "<Figure size 1000x600 with 1 Axes>"
      ]
     },
     "metadata": {},
     "output_type": "display_data"
    }
   ],
   "source": [
    "#checking the distribution of the data\n",
    "# Set the aesthetic style of the plots\n",
    "sns.set(style='whitegrid')\n",
    "\n",
    "# Create a figure with specified size\n",
    "plt.figure(figsize=(10, 6))\n",
    "\n",
    "# Plotting a histogram\n",
    "sns.histplot(reddit_data['category'], kde=False, color='blue', bins=10)\n",
    "plt.title('Histogram of Category')\n",
    "plt.xlabel('Values')\n",
    "plt.ylabel('Frequency')\n",
    "plt.show()"
   ]
  },
  {
   "cell_type": "markdown",
   "id": "1466982d",
   "metadata": {},
   "source": [
    "**Feature selection using TF-IDF**"
   ]
  },
  {
   "cell_type": "code",
   "execution_count": 13,
   "id": "aaa2fe5b",
   "metadata": {},
   "outputs": [],
   "source": [
    "# Initialize TF-IDF Vectorizer\n",
    "tfidf_vectorizer = TfidfVectorizer(stop_words='english', max_features=1000)\n",
    "\n",
    "## Apply TF-IDF to the comments\n",
    "X = tfidf_vectorizer.fit_transform(reddit_data['cleaned_comments'])\n",
    "\n",
    "## Encoding the target variable\n",
    "label_encoder = LabelEncoder()\n",
    "y = label_encoder.fit_transform(reddit_data['category'])"
   ]
  },
  {
   "cell_type": "code",
   "execution_count": 14,
   "id": "0bc966c4",
   "metadata": {},
   "outputs": [
    {
     "data": {
      "text/plain": [
       "((2607, 1000), (652, 1000), (2607,), (652,))"
      ]
     },
     "execution_count": 14,
     "metadata": {},
     "output_type": "execute_result"
    }
   ],
   "source": [
    "# Split data\n",
    "X_train, X_test, y_train, y_test = train_test_split(X, y, test_size=0.2, random_state=50)\n",
    "\n",
    "# Overview of the data shapes after preprocessing\n",
    "X_train.shape, X_test.shape, y_train.shape, y_test.shape"
   ]
  },
  {
   "cell_type": "markdown",
   "id": "b811ed74",
   "metadata": {},
   "source": [
    "# SECTION B"
   ]
  },
  {
   "cell_type": "markdown",
   "id": "b44158be",
   "metadata": {},
   "source": [
    "### Training with Logistic Regression"
   ]
  },
  {
   "cell_type": "code",
   "execution_count": 15,
   "id": "9ce91148",
   "metadata": {},
   "outputs": [],
   "source": [
    "# training, validating and testing model\n",
    "from sklearn.linear_model import LogisticRegression\n",
    "from sklearn.metrics import classification_report, accuracy_score\n",
    "\n",
    "# Initialize and train the Logistic Regression model\n",
    "logistic_model = LogisticRegression(random_state=50, max_iter=500)\n",
    "logistic_model.fit(X_train, y_train)\n",
    "\n",
    "cv_scores = cross_val_score(logistic_model, X_train, y_train, cv=5)\n",
    "\n",
    "# Predict on the testing set\n",
    "y_pred = logistic_model.predict(X_test)\n",
    "\n",
    "# Calculate accuracy and other performance metrics\n",
    "log_accuracy = accuracy_score(y_test, y_pred)"
   ]
  },
  {
   "cell_type": "code",
   "execution_count": 16,
   "id": "ea740e91",
   "metadata": {},
   "outputs": [
    {
     "name": "stdout",
     "output_type": "stream",
     "text": [
      "Accuracy: 87.88%\n",
      "Cross-validation scores: [0.86781609 0.87164751 0.88099808 0.87140115 0.86948177]\n",
      "Average cross-validation score: 0.87\n",
      "Classification Report:\n",
      "  Medical Doctor\n",
      "    Precision: 93%\n",
      "    Recall: 39%\n",
      "    F1-Score: 55%\n",
      "  Others\n",
      "    Precision: 90%\n",
      "    Recall: 98%\n",
      "    F1-Score: 94%\n",
      "  Veterinarian\n",
      "    Precision: 83%\n",
      "    Recall: 84%\n",
      "    F1-Score: 83%\n"
     ]
    }
   ],
   "source": [
    "# Generate classification report\n",
    "log_report = classification_report(y_test, y_pred, target_names=['Medical Doctor', 'Others', 'Veterinarian'], output_dict=True)\n",
    "\n",
    "# Display the results\n",
    "print(f'Accuracy: {log_accuracy * 100:.2f}%')\n",
    "print(\"Cross-validation scores:\", cv_scores)\n",
    "print(\"Average cross-validation score: {:.2f}\".format(cv_scores.mean()))\n",
    "print('Classification Report:')\n",
    "for label, metrics in log_report.items():\n",
    "    if label in ['Medical Doctor', 'Others', 'Veterinarian']:\n",
    "        print(f'  {label}')\n",
    "        print(f'    Precision: {metrics[\"precision\"] * 100:.0f}%')\n",
    "        print(f'    Recall: {metrics[\"recall\"] * 100:.0f}%')\n",
    "        print(f'    F1-Score: {metrics[\"f1-score\"] * 100:.0f}%')"
   ]
  },
  {
   "cell_type": "code",
   "execution_count": 17,
   "id": "0053b89e",
   "metadata": {},
   "outputs": [
    {
     "name": "stdout",
     "output_type": "stream",
     "text": [
      "Weighted Precision: 0.88\n",
      "Weighted Recall: 0.88\n",
      "Weighted F1-Score: 0.87\n",
      "\n",
      "\n",
      "Macro Precision: 0.88\n",
      "Macro Recall: 0.73\n",
      "Macro F1-Score: 0.77\n"
     ]
    }
   ],
   "source": [
    "'''Considering the imbalance across the different categories in the dataset it is best to get the weighted and macro performance \n",
    "to fully access the performance of the model'''\n",
    "\n",
    "# Calculate precision, recall, and F1-score using weighted average\n",
    "precision_weighted, recall_weighted, f1_score_weighted, _ = precision_recall_fscore_support(y_test, y_pred, average='weighted')\n",
    "print(\"Weighted Precision: {:.2f}\".format(precision_weighted))\n",
    "print(\"Weighted Recall: {:.2f}\".format(recall_weighted))\n",
    "print(\"Weighted F1-Score: {:.2f}\".format(f1_score_weighted))\n",
    "\n",
    "print(\"\\n\")\n",
    "\n",
    "# Calculate precision, recall, and F1-score using macro average\n",
    "precision_macro, recall_macro, f1_score_macro, _ = precision_recall_fscore_support(y_test, y_pred, average='macro')\n",
    "print(\"Macro Precision: {:.2f}\".format(precision_macro))\n",
    "print(\"Macro Recall: {:.2f}\".format(recall_macro))\n",
    "print(\"Macro F1-Score: {:.2f}\".format(f1_score_macro))"
   ]
  },
  {
   "cell_type": "code",
   "execution_count": 18,
   "id": "e1fa362c",
   "metadata": {},
   "outputs": [],
   "source": [
    "'''To find the optimal hyperparameters that yield the best model performance'''\n",
    "\n",
    "# Setup GridSearchCV to find the best hyperparameters\n",
    "param_grid = {'C': [0.01, 0.1, 1, 10, 100]}\n",
    "grid_search = GridSearchCV(LogisticRegression(random_state=50, max_iter=1000), param_grid, cv=5, scoring='accuracy')\n",
    "\n",
    "# Perform the grid search on the training data\n",
    "grid_search.fit(X_train, y_train)\n",
    "\n",
    "# Best parameter and best score\n",
    "best_params = grid_search.best_params_\n",
    "best_score = grid_search.best_score_\n",
    "\n",
    "# Evaluate the best model on the test data\n",
    "best_model = grid_search.best_estimator_\n",
    "y_pred_log = best_model.predict(X_test)\n",
    "best_accuracy = accuracy_score(y_test, y_pred_log)"
   ]
  },
  {
   "cell_type": "code",
   "execution_count": 19,
   "id": "c238065f",
   "metadata": {},
   "outputs": [
    {
     "name": "stdout",
     "output_type": "stream",
     "text": [
      "best_param: {'C': 10}\n",
      "Score: 89.76%\n",
      "Accuracy: 90.64%\n",
      "Classification Report:\n",
      "  Medical Doctor\n",
      "    Precision: 80%\n",
      "    Recall: 63%\n",
      "    F1-Score: 70%\n",
      "  Others\n",
      "    Precision: 93%\n",
      "    Recall: 99%\n",
      "    F1-Score: 96%\n",
      "  Veterinarian\n",
      "    Precision: 87%\n",
      "    Recall: 84%\n",
      "    F1-Score: 85%\n"
     ]
    }
   ],
   "source": [
    "# Generate classification report\n",
    "C_report = classification_report(y_test, y_pred_log, target_names=['Medical Doctor', 'Others', 'Veterinarian'], output_dict=True)\n",
    "\n",
    "# Display the results\n",
    "print(f'best_param: {best_params}')\n",
    "print(f'Score: {best_score * 100:.2f}%')\n",
    "print(f'Accuracy: {best_accuracy * 100:.2f}%')\n",
    "print('Classification Report:')\n",
    "for label, metrics in C_report.items():\n",
    "    if label in ['Medical Doctor', 'Others', 'Veterinarian']:\n",
    "        print(f'  {label}')\n",
    "        print(f'    Precision: {metrics[\"precision\"] * 100:.0f}%')\n",
    "        print(f'    Recall: {metrics[\"recall\"] * 100:.0f}%')\n",
    "        print(f'    F1-Score: {metrics[\"f1-score\"] * 100:.0f}%')"
   ]
  },
  {
   "cell_type": "markdown",
   "id": "d906f664",
   "metadata": {},
   "source": [
    "### Training with Support Vector Machine (SVM)"
   ]
  },
  {
   "cell_type": "code",
   "execution_count": 20,
   "id": "73703872",
   "metadata": {},
   "outputs": [],
   "source": [
    "# Initialize and train the Support Vector Machine (SVM) model\n",
    "svm_model = SVC(kernel='linear', C=1, random_state=60)\n",
    "svm_model.fit(X_train, y_train)\n",
    "\n",
    "cv_scores_svm = cross_val_score(svm_model, X_train, y_train, cv=5)\n",
    "\n",
    "# Predict on the testing set\n",
    "y_pred_svm = svm_model.predict(X_test)\n",
    "\n",
    "# Calculate accuracy and other performance metrics for the SVM model\n",
    "svm_accuracy = accuracy_score(y_test, y_pred_svm)"
   ]
  },
  {
   "cell_type": "code",
   "execution_count": 21,
   "id": "46e974f6",
   "metadata": {},
   "outputs": [
    {
     "name": "stdout",
     "output_type": "stream",
     "text": [
      "Accuracy: 91.72%\n",
      "Cross-validation scores: [0.89846743 0.90613027 0.92130518 0.9059501  0.9059501 ]\n",
      "Average cross-validation score: 0.91\n",
      "Classification Report:\n",
      "  weighted avg\n",
      "    Precision_SVM: 93%\n",
      "    Recall_SVM: 61%\n",
      "    F1-Score_SVM: 74%\n",
      "  weighted avg\n",
      "    Precision_SVM: 93%\n",
      "    Recall_SVM: 99%\n",
      "    F1-Score_SVM: 96%\n",
      "  weighted avg\n",
      "    Precision_SVM: 87%\n",
      "    Recall_SVM: 88%\n",
      "    F1-Score_SVM: 88%\n"
     ]
    }
   ],
   "source": [
    "# Generate classification report\n",
    "svm_report = classification_report(y_test, y_pred_svm, target_names=['Medical Doctor', 'Others', 'Veterinarian'], output_dict=True)\n",
    "\n",
    "# Display the results\n",
    "print(f'Accuracy: {svm_accuracy * 100:.2f}%')\n",
    "print(\"Cross-validation scores:\", cv_scores_svm)\n",
    "print(\"Average cross-validation score: {:.2f}\".format(cv_scores_svm.mean()))\n",
    "print('Classification Report:')\n",
    "for labels, metric in svm_report.items():\n",
    "    if labels in ['Medical Doctor', 'Others', 'Veterinarian']:\n",
    "        print(f'  {label}')\n",
    "        print(f'    Precision_SVM: {metric[\"precision\"] * 100:.0f}%')\n",
    "        print(f'    Recall_SVM: {metric[\"recall\"] * 100:.0f}%')\n",
    "        print(f'    F1-Score_SVM: {metric[\"f1-score\"] * 100:.0f}%')"
   ]
  },
  {
   "cell_type": "code",
   "execution_count": 22,
   "id": "79743c75",
   "metadata": {},
   "outputs": [
    {
     "name": "stdout",
     "output_type": "stream",
     "text": [
      "Weighted Precision: 0.92\n",
      "Weighted Recall: 0.92\n",
      "Weighted F1-Score: 0.91\n",
      "\n",
      "\n",
      "Macro Precision: 0.91\n",
      "Macro Recall: 0.83\n",
      "Macro F1-Score: 0.86\n"
     ]
    }
   ],
   "source": [
    "# Calculate precision, recall, and F1-score using weighted average\n",
    "precision_weighted, recall_weighted, f1_score_weighted, _ = precision_recall_fscore_support(y_test, y_pred_svm, average='weighted')\n",
    "print(\"Weighted Precision: {:.2f}\".format(precision_weighted))\n",
    "print(\"Weighted Recall: {:.2f}\".format(recall_weighted))\n",
    "print(\"Weighted F1-Score: {:.2f}\".format(f1_score_weighted))\n",
    "\n",
    "print(\"\\n\")\n",
    "\n",
    "# Calculate precision, recall, and F1-score using macro average\n",
    "precision_macro, recall_macro, f1_score_macro, _ = precision_recall_fscore_support(y_test, y_pred_svm, average='macro')\n",
    "print(\"Macro Precision: {:.2f}\".format(precision_macro))\n",
    "print(\"Macro Recall: {:.2f}\".format(recall_macro))\n",
    "print(\"Macro F1-Score: {:.2f}\".format(f1_score_macro))"
   ]
  },
  {
   "cell_type": "code",
   "execution_count": 23,
   "id": "b802715e",
   "metadata": {},
   "outputs": [],
   "source": [
    "# feature selection with TF-IDF \n",
    "# Experiment with different settings for TF-IDF\n",
    "tfidf_vectorizer_new = TfidfVectorizer(stop_words='english', max_features=1000, ngram_range=(1,2))\n",
    "\n",
    "# Create a new SVM model using the updated TF-IDF settings\n",
    "svm_model_new = make_pipeline(tfidf_vectorizer_new, SVC(kernel='linear', C=1, random_state=60))\n",
    "\n",
    "# Fit the new model pipeline on the raw text data and the labels\n",
    "svm_model_new.fit(reddit_data['cleaned_comments'], y)\n",
    "\n",
    "# Split the data to evaluate the new model\n",
    "X_train_new, X_test_new, y_train_new, y_test_new = train_test_split(reddit_data['cleaned_comments'], y, test_size=0.2, random_state=42)\n",
    "\n",
    "# Predict using the new model on the test data\n",
    "y_pred_new = svm_model_new.predict(X_test_new)\n",
    "\n",
    "# Calculate accuracy and other performance metrics for the new SVM model\n",
    "new_accuracy = accuracy_score(y_test_new, y_pred_new)"
   ]
  },
  {
   "cell_type": "code",
   "execution_count": 24,
   "id": "16c95455",
   "metadata": {},
   "outputs": [
    {
     "name": "stdout",
     "output_type": "stream",
     "text": [
      "Accuracy: 96.47%\n",
      "Classification Report:\n",
      "  Medical Doctor\n",
      "    Precision: 100%\n",
      "    Recall: 92%\n",
      "    F1-Score: 96%\n",
      "  Others\n",
      "    Precision: 96%\n",
      "    Recall: 100%\n",
      "    F1-Score: 98%\n",
      "  Veterinarian\n",
      "    Precision: 97%\n",
      "    Recall: 91%\n",
      "    F1-Score: 94%\n"
     ]
    }
   ],
   "source": [
    "# Generate classification report\n",
    "new_report = classification_report(y_test_new, y_pred_new, target_names=label_encoder.classes_, output_dict=True)\n",
    "\n",
    "# Display the results\n",
    "print(f'Accuracy: {new_accuracy * 100:.2f}%')\n",
    "print('Classification Report:')\n",
    "for label, metrics in new_report.items():\n",
    "    if label in ['Medical Doctor', 'Others', 'Veterinarian']:\n",
    "        print(f'  {label}')\n",
    "        print(f'    Precision: {metrics[\"precision\"] * 100:.0f}%')\n",
    "        print(f'    Recall: {metrics[\"recall\"] * 100:.0f}%')\n",
    "        print(f'    F1-Score: {metrics[\"f1-score\"] * 100:.0f}%')"
   ]
  },
  {
   "cell_type": "code",
   "execution_count": 25,
   "id": "b96409ed",
   "metadata": {},
   "outputs": [
    {
     "name": "stdout",
     "output_type": "stream",
     "text": [
      "Weighted Precision: 0.97\n",
      "Weighted Recall: 0.96\n",
      "Weighted F1-Score: 0.96\n",
      "\n",
      "\n",
      "Macro Precision: 0.97\n",
      "Macro Recall: 0.94\n",
      "Macro F1-Score: 0.96\n"
     ]
    }
   ],
   "source": [
    "# Calculate precision, recall, and F1-score using weighted average\n",
    "precision_weighted, recall_weighted, f1_score_weighted, _ = precision_recall_fscore_support(y_test_new, y_pred_new, average='weighted')\n",
    "print(\"Weighted Precision: {:.2f}\".format(precision_weighted))\n",
    "print(\"Weighted Recall: {:.2f}\".format(recall_weighted))\n",
    "print(\"Weighted F1-Score: {:.2f}\".format(f1_score_weighted))\n",
    "\n",
    "print(\"\\n\")\n",
    "\n",
    "# Calculate precision, recall, and F1-score using macro average\n",
    "precision_macro, recall_macro, f1_score_macro, _ = precision_recall_fscore_support(y_test_new, y_pred_new, average='macro')\n",
    "print(\"Macro Precision: {:.2f}\".format(precision_macro))\n",
    "print(\"Macro Recall: {:.2f}\".format(recall_macro))\n",
    "print(\"Macro F1-Score: {:.2f}\".format(f1_score_macro))"
   ]
  },
  {
   "cell_type": "code",
   "execution_count": 26,
   "id": "d480500c",
   "metadata": {},
   "outputs": [],
   "source": [
    "# Learning curve plotting function\n",
    "def plot_learning_curve(estimator, title, X, y, ylim=None, cv=None,\n",
    "                        n_jobs=None, train_sizes=np.linspace(.1, 1.0, 5)):\n",
    "    plt.figure(figsize=(10, 6))\n",
    "    plt.title(title)\n",
    "    if ylim is not None:\n",
    "        plt.ylim(*ylim)\n",
    "    plt.xlabel(\"Training examples\")\n",
    "    plt.ylabel(\"Score\")\n",
    "    train_sizes, train_scores, test_scores = learning_curve(\n",
    "        estimator, X, y, cv=cv, n_jobs=n_jobs, train_sizes=train_sizes, random_state=42)\n",
    "    train_scores_mean = np.mean(train_scores, axis=1)\n",
    "    train_scores_std = np.std(train_scores, axis=1)\n",
    "    test_scores_mean = np.mean(test_scores, axis=1)\n",
    "    test_scores_std = np.std(test_scores, axis=1)\n",
    "\n",
    "    plt.grid()\n",
    "\n",
    "    plt.fill_between(train_sizes, train_scores_mean - train_scores_std,\n",
    "                     train_scores_mean + train_scores_std, alpha=0.1, color=\"r\")\n",
    "    plt.fill_between(train_sizes, test_scores_mean - test_scores_std,\n",
    "                     test_scores_mean + test_scores_std, alpha=0.1, color=\"g\")\n",
    "    plt.plot(train_sizes, train_scores_mean, 'o-', color=\"r\", label=\"Training score\")\n",
    "    plt.plot(train_sizes, test_scores_mean, 'o-', color=\"g\", label=\"Cross-validation score\")\n",
    "\n",
    "    plt.legend(loc=\"best\")\n",
    "    return plt"
   ]
  },
  {
   "cell_type": "code",
   "execution_count": 27,
   "id": "4ea4df4b",
   "metadata": {},
   "outputs": [
    {
     "data": {
      "image/png": "[encoded data removed]",
      "text/plain": [
       "<Figure size 1000x600 with 1 Axes>"
      ]
     },
     "metadata": {},
     "output_type": "display_data"
    }
   ],
   "source": [
    "# Plot learning curve for Logistic Regression\n",
    "plot_log = plot_learning_curve(logistic_model, \"Learning Curve for Logistic Regression\", X, y, cv=5)\n",
    "plot_log.show()"
   ]
  },
  {
   "cell_type": "code",
   "execution_count": 28,
   "id": "97db47f3",
   "metadata": {},
   "outputs": [
    {
     "data": {
      "image/png": "[encoded data removed]",
      "text/plain": [
       "<Figure size 1000x600 with 1 Axes>"
      ]
     },
     "metadata": {},
     "output_type": "display_data"
    }
   ],
   "source": [
    "# Plot learning curve for SVM\n",
    "plot_svm = plot_learning_curve(svm_model, \"Learning Curve for SVM\", X, y, cv=5)\n",
    "plot_svm.show()"
   ]
  },
  {
   "cell_type": "code",
   "execution_count": 29,
   "id": "0a34c9a1",
   "metadata": {},
   "outputs": [
    {
     "data": {
      "text/plain": [
       "['svm_model_new.joblib']"
      ]
     },
     "execution_count": 29,
     "metadata": {},
     "output_type": "execute_result"
    }
   ],
   "source": [
    "# Save the model to a file\n",
    "dump(svm_model_new, 'svm_model_new.joblib')"
   ]
  },
  {
   "cell_type": "markdown",
   "id": "f04db83f",
   "metadata": {},
   "source": [
    "# SECTION C"
   ]
  },
  {
   "cell_type": "markdown",
   "id": "e54c585e",
   "metadata": {},
   "source": [
    "## RESULT AND CONCLUSION\n",
    "Using the conventional traditional Algorithms to carry out this task utilizing Logistic Regression and Support Vector Machine Algorithms to train the model they both yielded good results on the dataset. To get the optimal performance techniques like Feature engineering, cross validation, hyperparameter tuning had to be carried out to improve the performance metrics of both models. \n",
    "Considering the imbalance in the 3 categories of the category column as visualized with the histogram there was need to also evaluate the performance metric by the weighted and macro metrics which considers the class imbalance. The learning curve was also plotted to know how fitting the model is for this task.\n",
    "\n",
    "All this led to deciding the model that is the best fit for this task based on \n",
    "- Performance metrics\n",
    "- Learning curve\n",
    "\n",
    "The performance metrics for both model yielded high scores across the Precision, Recall and F1-Score. However, the SVM had higher Accuracy, Cross-validation, Precision and Recall score than the Logistic regression both before hypertuning and after. The result after hyperparameter tuning of the SVM points towards overfitting while the Logistic regression improved significantly across all the metrics after hyperparameter tuning.\n",
    "\n",
    "The learning curve indictates:\n",
    "\n",
    "- Logistic regression graph starts quite high and remains stable as more data is added, with a very slight decrease. There's a steady improvement as more training examples are added, and it appears to converge towards the training score. The model might initially be slightly overfitting, but as more data is added, it begins to generalize better. The convergence of the training and cross-validation scores suggests that increasing the amount of training data is effectively reducing overfitting\n",
    "\n",
    "- The SVM graph started off performing well at a very high training score and slightly decreases, maintaining a level close to 1.0. This indicates the model fits the training data well. The score also increases with the number of training examples, showing improved generalization from more data, but it is still significantly lower than the training score. The model is overfitting. This is evident because the training score is much higher than the cross-validation score, and despite the gap slightly closing as more data is used, it remains substantial.\n",
    "\n",
    "**Conclusion**\n",
    "\n",
    "Considering all this results the best classifier model for this task is to use the logistic regression model to classify the professions based on the reddit comments into their respective category. With addition of more data the Logistic regression model will perform batter than its current state."
   ]
  },
  {
   "cell_type": "code",
   "execution_count": null,
   "id": "de45e3b9",
   "metadata": {},
   "outputs": [],
   "source": []
  }
 ],
 "metadata": {
  "kernelspec": {
   "display_name": "Python 3 (ipykernel)",
   "language": "python",
   "name": "python3"
  },
  "language_info": {
   "codemirror_mode": {
    "name": "ipython",
    "version": 3
   },
   "file_extension": ".py",
   "mimetype": "text/x-python",
   "name": "python",
   "nbconvert_exporter": "python",
   "pygments_lexer": "ipython3",
   "version": "3.11.3"
  }
 },
 "nbformat": 4,
 "nbformat_minor": 5
}
